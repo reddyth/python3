{
 "cells": [
  {
   "cell_type": "code",
   "execution_count": 1,
   "metadata": {},
   "outputs": [
    {
     "name": "stdout",
     "output_type": "stream",
     "text": [
      "(16, 199)\n"
     ]
    }
   ],
   "source": [
    "import pygame\n",
    "pygame.init()\n",
    "\n",
    "disp = pygame.display.set_mode((400,200))\n",
    "pygame.display.set_caption(\"Draw Primitives\")\n",
    "stop = False\n",
    "clock = pygame.time.Clock()\n",
    "\n",
    "BLACK = (0,0,0)\n",
    "WHITE = (255,255,255)\n",
    "BLUE = (0,0,255)\n",
    "\n",
    "RED = (255, 0, 0)\n",
    "\n",
    "print(pygame.mouse.get_pos())\n",
    "print(pygame.mouse.get)\n",
    "\n",
    "while not stop:\n",
    "    for event in pygame.event.get():\n",
    "        if event.type == pygame.QUIT:\n",
    "            stop = True\n",
    "        clock.tick(40)\n",
    "        \n",
    "        disp.fill(BLACK)\n",
    "        \n",
    "        #rectangle outline\n",
    "        pygame.draw.rect(disp, (0,0,255), [85,10,40,20],2)\n",
    "        #rectangle solid\n",
    "        pygame.draw.rect(disp, RED, [85,10,40,20])\n",
    "        #ellipse\n",
    "        pygame.draw.ellipse(disp, WHITE, [300,10,50,20])\n",
    "        \n",
    "        #polygon\n",
    "        pygame.draw.polygon(disp, BLUE, [[100,100],[0,200],[200,200]], 5)\n",
    "        \n",
    "        #circle\n",
    "        pygame.draw.circle(disp, (0,0,255), [60,200], 4)\n",
    "        \n",
    "        #line\n",
    "        pygame.draw.line(disp, BLUE, [0,0], [20,30], 5)\n",
    "        \n",
    "        #lines\n",
    "        #pygame.draw.lines(disp, WHITE, [[0,0], [20,30],[30,60]], 5)\n",
    "        \n",
    "        #pygame.draw.aalines(disp, WHITE, [0,0], [20,30], True)\n",
    "        \n",
    "        #pygame.draw.arc(dispq, BLUE, [85,10,40,20], 150, 300, 2)\n",
    "        \n",
    "    pygame.display.flip()\n",
    "    \n",
    "pygame.quit()\n",
    "quit()\n",
    "\n",
    "\n",
    "        "
   ]
  }
 ],
 "metadata": {
  "kernelspec": {
   "display_name": "Python 3",
   "language": "python",
   "name": "python3"
  },
  "language_info": {
   "codemirror_mode": {
    "name": "ipython",
    "version": 3
   },
   "file_extension": ".py",
   "mimetype": "text/x-python",
   "name": "python",
   "nbconvert_exporter": "python",
   "pygments_lexer": "ipython3",
   "version": "3.8.5"
  }
 },
 "nbformat": 4,
 "nbformat_minor": 4
}
