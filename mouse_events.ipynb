{
 "cells": [
  {
   "cell_type": "code",
   "execution_count": 1,
   "metadata": {},
   "outputs": [
    {
     "name": "stdout",
     "output_type": "stream",
     "text": [
      "pygame 2.0.1 (SDL 2.0.14, Python 3.8.5)\n",
      "Hello from the pygame community. https://www.pygame.org/contribute.html\n",
      "<Event(4352-AudioDeviceAdded {'which': 0, 'iscapture': 0})>\n",
      "<Event(4352-AudioDeviceAdded {'which': 0, 'iscapture': 1})>\n",
      "<Event(4352-AudioDeviceAdded {'which': 1, 'iscapture': 1})>\n",
      "<Event(32774-WindowShown {'window': None})>\n",
      "<Event(32768-ActiveEvent {'gain': 1, 'state': 1})>\n",
      "<Event(32785-WindowFocusGained {'window': None})>\n",
      "<Event(770-TextEditing {'text': '', 'start': 0, 'length': 0, 'window': None})>\n",
      "<Event(32768-ActiveEvent {'gain': 1, 'state': 0})>\n",
      "<Event(32783-WindowEnter {'window': None})>\n",
      "<Event(1024-MouseMotion {'pos': (147, 183), 'rel': (0, 0), 'buttons': (0, 0, 0), 'window': None})>\n",
      "<Event(32768-ActiveEvent {'gain': 0, 'state': 0})>\n",
      "<Event(32784-WindowLeave {'window': None})>\n",
      "<Event(32770-VideoExpose {})>\n",
      "<Event(32776-WindowExposed {'window': None})>\n",
      "<Event(4352-AudioDeviceAdded {'which': 1, 'iscapture': 0})>\n",
      "<Event(32770-VideoExpose {})>\n",
      "<Event(32776-WindowExposed {'window': None})>\n",
      "<Event(32768-ActiveEvent {'gain': 1, 'state': 0})>\n",
      "<Event(32783-WindowEnter {'window': None})>\n",
      "<Event(1024-MouseMotion {'pos': (580, 441), 'rel': (0, 0), 'buttons': (0, 0, 0), 'window': None})>\n",
      "<Event(1024-MouseMotion {'pos': (558, 391), 'rel': (-22, -50), 'buttons': (0, 0, 0), 'window': None})>\n",
      "<Event(1024-MouseMotion {'pos': (531, 333), 'rel': (-27, -58), 'buttons': (0, 0, 0), 'window': None})>\n",
      "<Event(1024-MouseMotion {'pos': (524, 296), 'rel': (-7, -37), 'buttons': (0, 0, 0), 'window': None})>\n",
      "<Event(1024-MouseMotion {'pos': (517, 261), 'rel': (-7, -35), 'buttons': (0, 0, 0), 'window': None})>\n",
      "<Event(1024-MouseMotion {'pos': (514, 228), 'rel': (-3, -33), 'buttons': (0, 0, 0), 'window': None})>\n",
      "<Event(1024-MouseMotion {'pos': (512, 195), 'rel': (-2, -33), 'buttons': (0, 0, 0), 'window': None})>\n",
      "<Event(1024-MouseMotion {'pos': (512, 149), 'rel': (0, -46), 'buttons': (0, 0, 0), 'window': None})>\n",
      "<Event(1024-MouseMotion {'pos': (512, 86), 'rel': (0, -63), 'buttons': (0, 0, 0), 'window': None})>\n",
      "<Event(1024-MouseMotion {'pos': (513, 58), 'rel': (1, -28), 'buttons': (0, 0, 0), 'window': None})>\n",
      "<Event(1024-MouseMotion {'pos': (515, 35), 'rel': (2, -23), 'buttons': (0, 0, 0), 'window': None})>\n",
      "<Event(1024-MouseMotion {'pos': (520, 9), 'rel': (5, -26), 'buttons': (0, 0, 0), 'window': None})>\n",
      "<Event(1024-MouseMotion {'pos': (526, 0), 'rel': (6, -28), 'buttons': (0, 0, 0), 'window': None})>\n",
      "<Event(32768-ActiveEvent {'gain': 0, 'state': 0})>\n",
      "<Event(32784-WindowLeave {'window': None})>\n",
      "<Event(32787-WindowClose {'window': None})>\n",
      "<Event(256-Quit {})>\n"
     ]
    }
   ],
   "source": [
    "import pygame\n",
    "pygame.init()\n",
    "\n",
    "display = pygame.display.set_mode((600,600))\n",
    "clock = pygame.time.Clock()\n",
    "\n",
    "stop = False\n",
    "mouse_button_released = False\n",
    "\n",
    "while not stop:\n",
    "    try:\n",
    "        for event in pygame.event.get():\n",
    "            if event.type == pygame.QUIT:\n",
    "                stop = True\n",
    "            print(event)\n",
    "            px, py = pygame.mouse.get_pos()\n",
    "            if event.type == pygame.MOUSEBUTTONDOWN:\n",
    "                pygame.draw.circle(display, (0,255,0), [px, py], 40)\n",
    "\n",
    "            if event.type == pygame.MOUSEBUTTONUP:\n",
    "                mouse_button_released = True\n",
    "        pygame.display.update()\n",
    "        clock.tick(100)\n",
    "    except Exception as e:\n",
    "        print(e)\n",
    "        pygame.quit()\n",
    "quit()"
   ]
  },
  {
   "cell_type": "markdown",
   "metadata": {},
   "source": [
    "conda install -c conda-forge jupyter_contrib_nbextensions\n",
    "\n"
   ]
  }
 ],
 "metadata": {
  "kernelspec": {
   "display_name": "Python 3",
   "language": "python",
   "name": "python3"
  },
  "language_info": {
   "codemirror_mode": {
    "name": "ipython",
    "version": 3
   },
   "file_extension": ".py",
   "mimetype": "text/x-python",
   "name": "python",
   "nbconvert_exporter": "python",
   "pygments_lexer": "ipython3",
   "version": "3.8.5"
  }
 },
 "nbformat": 4,
 "nbformat_minor": 4
}
